{
  "nbformat": 4,
  "nbformat_minor": 0,
  "metadata": {
    "colab": {
      "provenance": [],
      "mount_file_id": "1t25oB8Uf-iKN33i8n8HC-muVpmTIUUPy",
      "authorship_tag": "ABX9TyOaTDZtVHnB0uHfDtckOEDz",
      "include_colab_link": true
    },
    "kernelspec": {
      "name": "python3",
      "display_name": "Python 3"
    },
    "language_info": {
      "name": "python"
    }
  },
  "cells": [
    {
      "cell_type": "markdown",
      "metadata": {
        "id": "view-in-github",
        "colab_type": "text"
      },
      "source": [
        "<a href=\"https://colab.research.google.com/github/dngb78/EjemploProyecto/blob/master/main.ipynb\" target=\"_parent\"><img src=\"https://colab.research.google.com/assets/colab-badge.svg\" alt=\"Open In Colab\"/></a>"
      ]
    },
    {
      "cell_type": "code",
      "source": [],
      "metadata": {
        "id": "P4ouTOiZ2aCu"
      },
      "execution_count": null,
      "outputs": []
    },
    {
      "cell_type": "code",
      "execution_count": 3,
      "metadata": {
        "id": "AtocOsWCr3Mj"
      },
      "outputs": [],
      "source": [
        "#import libraries\n",
        "import requests\n",
        "\n",
        "if __name__ == '__main__':\n",
        "  url = 'https://www.google.com.mx/'\n",
        "  response = requests.get(url)\n",
        "\n",
        "  if response.status_code == 200:\n",
        "      content = response.content\n",
        "      file = open('google.html', 'wb')\n",
        "      file.write(content)\n",
        "      file.close()"
      ]
    },
    {
      "cell_type": "code",
      "source": [
        "if __name__ == '__main__':\n",
        "  url = 'https://httpbin.org/get?nombre=eduardo&curso=python'\n",
        "  response = requests.get(url)\n",
        "\n",
        "  if response.status_code == 200:\n",
        "      content = response.content\n",
        "      print(content)"
      ],
      "metadata": {
        "colab": {
          "base_uri": "https://localhost:8080/"
        },
        "id": "UFZh7HPRzCpB",
        "outputId": "a9d032f4-4353-4189-b7a8-33879a59de27"
      },
      "execution_count": 6,
      "outputs": [
        {
          "output_type": "stream",
          "name": "stdout",
          "text": [
            "b'{\\n  \"args\": {\\n    \"curso\": \"python\", \\n    \"nombre\": \"eduardo\"\\n  }, \\n  \"headers\": {\\n    \"Accept\": \"*/*\", \\n    \"Accept-Encoding\": \"gzip, deflate\", \\n    \"Host\": \"httpbin.org\", \\n    \"User-Agent\": \"python-requests/2.31.0\", \\n    \"X-Amzn-Trace-Id\": \"Root=1-64ff712f-4a390bad472efe7a49673741\"\\n  }, \\n  \"origin\": \"34.125.180.13\", \\n  \"url\": \"https://httpbin.org/get?nombre=eduardo&curso=python\"\\n}\\n'\n"
          ]
        }
      ]
    },
    {
      "cell_type": "code",
      "source": [
        "if __name__ == '__main__':\n",
        "  url = 'https://httpbin.org/get'\n",
        "  args = {'nombre': 'Eduardo','curso': 'python', 'nivel': 'intermedio'}\n",
        "\n",
        "  response = requests.get(url, params=args)\n",
        "\n",
        "  if response.status_code == 200:\n",
        "      content = response.content\n",
        "      print(content)"
      ],
      "metadata": {
        "colab": {
          "base_uri": "https://localhost:8080/"
        },
        "id": "mh8q8DtR0otn",
        "outputId": "c3d47942-4e3a-4809-f60c-1029f841834f"
      },
      "execution_count": 9,
      "outputs": [
        {
          "output_type": "stream",
          "name": "stdout",
          "text": [
            "b'{\\n  \"args\": {\\n    \"curso\": \"python\", \\n    \"nivel\": \"intermedio\", \\n    \"nombre\": \"Eduardo\"\\n  }, \\n  \"headers\": {\\n    \"Accept\": \"*/*\", \\n    \"Accept-Encoding\": \"gzip, deflate\", \\n    \"Host\": \"httpbin.org\", \\n    \"User-Agent\": \"python-requests/2.31.0\", \\n    \"X-Amzn-Trace-Id\": \"Root=1-64ff726f-2cba893145c7c23704a1523b\"\\n  }, \\n  \"origin\": \"34.125.180.13\", \\n  \"url\": \"https://httpbin.org/get?nombre=Eduardo&curso=python&nivel=intermedio\"\\n}\\n'\n"
          ]
        }
      ]
    }
  ]
}